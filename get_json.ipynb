{
 "cells": [
  {
   "cell_type": "code",
   "execution_count": 3,
   "metadata": {},
   "outputs": [],
   "source": [
    "import yaml\n",
    "import json"
   ]
  },
  {
   "cell_type": "code",
   "execution_count": 4,
   "metadata": {},
   "outputs": [],
   "source": [
    "with open(\"datasets.txt\", \"r\") as f:\n",
    "    data = f.readlines()"
   ]
  },
  {
   "cell_type": "code",
   "execution_count": 5,
   "metadata": {},
   "outputs": [
    {
     "data": {
      "text/plain": [
       "['- AI2D `(ai2d)`\\n',\n",
       " '- ChartQA `(chartqa)`\\n',\n",
       " '- CMMMU `(cmmmu)`\\n',\n",
       " '  - CMMMU Validation `(cmmmu_val)`\\n',\n",
       " '  - CMMMU Test `(cmmmu_test)`\\n',\n",
       " '- COCO Caption `(coco_cap)`\\n',\n",
       " '  - COCO 2014 Caption `(coco2014_cap)`\\n',\n",
       " '    - COCO 2014 Caption Validation `(coco2014_cap_val)`\\n',\n",
       " '    - COCO 2014 Caption Test `(coco2014_cap_test)`\\n',\n",
       " '  - COCO 2017 Caption `(coco2017_cap)`\\n',\n",
       " '    - COCO 2017 Caption MiniVal `(coco2017_cap_val)`\\n',\n",
       " '    - COCO 2017 Caption MiniTest `(coco2017_cap_test)`\\n',\n",
       " '- DOCVQA `(docvqa)`\\n',\n",
       " '  - DOCVQA Validation `(docvqa_val)`\\n',\n",
       " '  - DOCVQA Test `(docvqa_test)`\\n',\n",
       " '- Ferret `(ferret)`\\n',\n",
       " '- Flickr30K `(flickr30k)`\\n',\n",
       " '  - Ferret Test `(ferret_test)`\\n',\n",
       " '- GQA `(gqa)`\\n',\n",
       " '- HallusionBenchmark `(hallusion_bench_image)`\\n',\n",
       " '- Infographic VQA `(info_vqa)`\\n',\n",
       " '  - Infographic VQA Validation `(info_vqa_val)`\\n',\n",
       " '  - Infographic VQA Test `(info_vqa_test)`\\n',\n",
       " '- LLaVA-Bench `(llava_bench_wild)`\\n',\n",
       " '- LLaVA-Bench-COCO `(llava_bench_coco)`\\n',\n",
       " '- MathVista `(mathvista)`\\n',\n",
       " '  - MathVista Validation `(mathvista_testmini)`\\n',\n",
       " '  - MathVista Test `(mathvista_test)`\\n',\n",
       " '- MMBench `(mmbench)`\\n',\n",
       " '  - MMBench English `(mmbench_en)`\\n',\n",
       " '    - MMBench English Dev `(mmbench_en_dev)`\\n',\n",
       " '    - MMBench English Test `(mmbench_en_test)`\\n',\n",
       " '  - MMBench Chinese `(mmbench_cn)`\\n',\n",
       " '    - MMBench Chinese Dev `(mmbench_cn_dev)`\\n',\n",
       " '    - MMBench Chinese Test `(mmbench_cn_test)`\\n',\n",
       " '- MME `(mme)`\\n',\n",
       " '- MMMU `(mmmu)`\\n',\n",
       " '  - MMMU Validation `(mmmu_val)`\\n',\n",
       " '  - MMMU Test `(mmmu_test)`\\n',\n",
       " '- MMVet `(mmvet)`\\n',\n",
       " '- Multi-DocVQA `(multidocvqa)`\\n',\n",
       " '  - Multi-DocVQA Validation `(multidocvqa_val)`\\n',\n",
       " '  - Multi-DocVQA Test `(multidocvqa_test)`']"
      ]
     },
     "execution_count": 5,
     "metadata": {},
     "output_type": "execute_result"
    }
   ],
   "source": [
    "data"
   ]
  },
  {
   "cell_type": "code",
   "execution_count": 6,
   "metadata": {},
   "outputs": [],
   "source": [
    "dataset = []\n",
    "\n",
    "for line in data:\n",
    "    line = line.strip()[2:]\n",
    "    data_set_name = \" \".join(line.split(' ')[:-1])\n",
    "    data_set_id = line.split(' ')[-1][2:-2]\n",
    "    dataset.append({\"Name\": data_set_name, \"ID\": data_set_id})"
   ]
  },
  {
   "cell_type": "code",
   "execution_count": 7,
   "metadata": {},
   "outputs": [
    {
     "data": {
      "text/plain": [
       "[{'Name': 'AI2D', 'ID': 'ai2d'},\n",
       " {'Name': 'ChartQA', 'ID': 'chartqa'},\n",
       " {'Name': 'CMMMU', 'ID': 'cmmmu'},\n",
       " {'Name': 'CMMMU Validation', 'ID': 'cmmmu_val'},\n",
       " {'Name': 'CMMMU Test', 'ID': 'cmmmu_test'},\n",
       " {'Name': 'COCO Caption', 'ID': 'coco_cap'},\n",
       " {'Name': 'COCO 2014 Caption', 'ID': 'coco2014_cap'},\n",
       " {'Name': 'COCO 2014 Caption Validation', 'ID': 'coco2014_cap_val'},\n",
       " {'Name': 'COCO 2014 Caption Test', 'ID': 'coco2014_cap_test'},\n",
       " {'Name': 'COCO 2017 Caption', 'ID': 'coco2017_cap'},\n",
       " {'Name': 'COCO 2017 Caption MiniVal', 'ID': 'coco2017_cap_val'},\n",
       " {'Name': 'COCO 2017 Caption MiniTest', 'ID': 'coco2017_cap_test'},\n",
       " {'Name': 'DOCVQA', 'ID': 'docvqa'},\n",
       " {'Name': 'DOCVQA Validation', 'ID': 'docvqa_val'},\n",
       " {'Name': 'DOCVQA Test', 'ID': 'docvqa_test'},\n",
       " {'Name': 'Ferret', 'ID': 'ferret'},\n",
       " {'Name': 'Flickr30K', 'ID': 'flickr30k'},\n",
       " {'Name': 'Ferret Test', 'ID': 'ferret_test'},\n",
       " {'Name': 'GQA', 'ID': 'gqa'},\n",
       " {'Name': 'HallusionBenchmark', 'ID': 'hallusion_bench_image'},\n",
       " {'Name': 'Infographic VQA', 'ID': 'info_vqa'},\n",
       " {'Name': 'Infographic VQA Validation', 'ID': 'info_vqa_val'},\n",
       " {'Name': 'Infographic VQA Test', 'ID': 'info_vqa_test'},\n",
       " {'Name': 'LLaVA-Bench', 'ID': 'llava_bench_wild'},\n",
       " {'Name': 'LLaVA-Bench-COCO', 'ID': 'llava_bench_coco'},\n",
       " {'Name': 'MathVista', 'ID': 'mathvista'},\n",
       " {'Name': 'MathVista Validation', 'ID': 'mathvista_testmini'},\n",
       " {'Name': 'MathVista Test', 'ID': 'mathvista_test'},\n",
       " {'Name': 'MMBench', 'ID': 'mmbench'},\n",
       " {'Name': 'MMBench English', 'ID': 'mmbench_en'},\n",
       " {'Name': 'MMBench English Dev', 'ID': 'mmbench_en_dev'},\n",
       " {'Name': 'MMBench English Test', 'ID': 'mmbench_en_test'},\n",
       " {'Name': 'MMBench Chinese', 'ID': 'mmbench_cn'},\n",
       " {'Name': 'MMBench Chinese Dev', 'ID': 'mmbench_cn_dev'},\n",
       " {'Name': 'MMBench Chinese Test', 'ID': 'mmbench_cn_test'},\n",
       " {'Name': 'MME', 'ID': 'mme'},\n",
       " {'Name': 'MMMU', 'ID': 'mmmu'},\n",
       " {'Name': 'MMMU Validation', 'ID': 'mmmu_val'},\n",
       " {'Name': 'MMMU Test', 'ID': 'mmmu_test'},\n",
       " {'Name': 'MMVet', 'ID': 'mmvet'},\n",
       " {'Name': 'Multi-DocVQA', 'ID': 'multidocvqa'},\n",
       " {'Name': 'Multi-DocVQA Validation', 'ID': 'multidocvqa_val'},\n",
       " {'Name': 'Multi-DocVQA Test', 'ID': 'multidocvqa_test'}]"
      ]
     },
     "execution_count": 7,
     "metadata": {},
     "output_type": "execute_result"
    }
   ],
   "source": [
    "dataset"
   ]
  },
  {
   "cell_type": "code",
   "execution_count": 8,
   "metadata": {},
   "outputs": [],
   "source": [
    "with open(\"datasets.json\", \"w\") as f:\n",
    "    f.write(json.dumps(dataset, indent=4))"
   ]
  },
  {
   "cell_type": "code",
   "execution_count": null,
   "metadata": {},
   "outputs": [],
   "source": []
  }
 ],
 "metadata": {
  "kernelspec": {
   "display_name": "pufanyi",
   "language": "python",
   "name": "python3"
  },
  "language_info": {
   "codemirror_mode": {
    "name": "ipython",
    "version": 3
   },
   "file_extension": ".py",
   "mimetype": "text/x-python",
   "name": "python",
   "nbconvert_exporter": "python",
   "pygments_lexer": "ipython3",
   "version": "3.11.7"
  }
 },
 "nbformat": 4,
 "nbformat_minor": 2
}
